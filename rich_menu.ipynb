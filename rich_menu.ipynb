{
 "cells": [
  {
   "cell_type": "code",
   "execution_count": 1,
   "metadata": {},
   "outputs": [
    {
     "name": "stdout",
     "output_type": "stream",
     "text": [
      "-設定檔上傳結果\n",
      "richmenu-90ee157f5f5bfc22109868b88347d597\n",
      "-圖片上傳結果\n",
      "None\n"
     ]
    }
   ],
   "source": [
    "'''\n",
    "迴圈讀取本地列表，\n",
    "    上傳設定檔，取得id，並將id寫入檔案中，而後上傳圖片\n",
    "\n",
    "'''\n",
    "\n",
    "import json\n",
    "from linebot import LineBotApi\n",
    "\n",
    "# 載入安全設定檔\n",
    "secretFileContentJson=json.load(open(\"./line_secret_key\",'r',encoding='utf8'))\n",
    "line_bot_api = LineBotApi(secretFileContentJson.get(\"channel_access_token\"))\n",
    "\n",
    "\n",
    "\n",
    "'''\n",
    "rich_menu的本地列表\n",
    "'''\n",
    "rich_menu_array=['rich_menu_0']\n",
    "\n",
    "from linebot.models import RichMenu\n",
    "\n",
    "for rich_menu_name in rich_menu_array:\n",
    "\n",
    "    \n",
    "    # 創建菜單，取得menuId\n",
    "    lineRichMenuId = line_bot_api.create_rich_menu(rich_menu=RichMenu.new_from_json_dict(json.load(open(\"素材/\"+rich_menu_name+'/rich_menu.json','r',encoding='utf8'))))\n",
    "    print(\"-設定檔上傳結果\")\n",
    "    print(lineRichMenuId)\n",
    "\n",
    "                                           \n",
    "    # id寫入本地端                              \n",
    "    f = open(\"素材/\"+rich_menu_name+\"/rich_menu_id\", \"w\",encoding='utf8')\n",
    "    f.write(lineRichMenuId)\n",
    "    f.close()                                       \n",
    " \n",
    "\n",
    "    # 上傳照片至該id\n",
    "    set_image_response=''\n",
    "    with open(\"素材/\"+rich_menu_name+'/rich_menu.jpg', 'rb') as f:\n",
    "        set_image_response=line_bot_api.set_rich_menu_image(lineRichMenuId, 'image/jpeg', f)\n",
    "        \n",
    "    print(\"-圖片上傳結果\")                                               \n",
    "    print(set_image_response)\n",
    "                                                                 \n"
   ]
  },
  {
   "cell_type": "code",
   "execution_count": 17,
   "metadata": {},
   "outputs": [
    {
     "data": {
      "text/plain": [
       "[{\"areas\": [{\"action\": {\"data\": \"folder=\\u624d\\u5fb7\\u5169\\u5168&tag=ai\", \"text\": \"\\u60f3\\u77e5\\u9053AI\\u7684\\u6230\\u7565\\u50f9\\u503c\", \"type\": \"postback\"}, \"bounds\": {\"height\": 210, \"width\": 672, \"x\": 99, \"y\": 153}}, {\"action\": {\"data\": \"folder=\\u57cb\\u91d1\\u639b\\u7389&tag=blockchain\", \"text\": \"\\u60f3\\u77e5\\u9053\\u5340\\u584a\\u93c8\\u7684\\u6230\\u7565\\u50f9\\u503c\", \"type\": \"postback\"}, \"bounds\": {\"height\": 182, \"width\": 685, \"x\": 91, \"y\": 408}}, {\"action\": {\"data\": \"folder=\\u51b7\\u9999\\u71b1\\u85cf&tag=cloud\", \"text\": \"\\u60f3\\u77e5\\u9053\\u96f2\\u670d\\u52d9\\u7684\\u6230\\u7565\\u50f9\\u503c\", \"type\": \"postback\"}, \"bounds\": {\"height\": 178, \"width\": 664, \"x\": 99, \"y\": 635}}, {\"action\": {\"data\": \"folder=\\u85cf\\u611a\\u5b88\\u62d9&tag=devops\", \"text\": \"\\u7522\\u54c1\\u5feb\\u901f\\u5c0e\\u5165\\u7684\\u8a23\\u7ac5\", \"type\": \"postback\"}, \"bounds\": {\"height\": 190, \"width\": 656, \"x\": 107, \"y\": 850}}, {\"action\": {\"data\": \"folder=\\u91d1\\u9675\\u56db\\u5bb6&tag=contact\", \"text\": \"\\u9ede\\u64ca\\u65c1\\u908a\\u9023\\u7d50 line://ti/p/@gby2522m \\u9032\\u884c\\u806f\\u7d61\", \"type\": \"postback\"}, \"bounds\": {\"height\": 194, \"width\": 656, \"x\": 103, \"y\": 1081}}, {\"action\": {\"type\": \"uri\", \"uri\": \"https://www.youtube.com/channel/UC3Gi7RVF6-rY2JBbfvMV9yA\"}, \"bounds\": {\"height\": 186, \"width\": 1176, \"x\": 103, \"y\": 1316}}, {\"action\": {\"text\": \"\\u624d\\u4eba\\u8d0a\\u5584\", \"type\": \"message\"}, \"bounds\": {\"height\": 1246, \"width\": 1056, \"x\": 1366, \"y\": 29}}, {\"action\": {\"data\": \"tag=change_menu\", \"text\": \"\\u5207\\u63db\\u5206\\u9801\", \"type\": \"postback\"}, \"bounds\": {\"height\": 252, \"width\": 1056, \"x\": 1361, \"y\": 1320}}], \"chatBarText\": \"\\u96ea\\u88e1\\u91d1\\u91f5\", \"name\": \"\\u859b\\u5bf6\\u91f5\\u6b3e\", \"richMenuId\": \"richmenu-e097f75e1b67ef587f458f04a7296255\", \"selected\": true, \"size\": {\"height\": 1686, \"width\": 2500}},\n",
       " {\"areas\": [{\"action\": {\"data\": \"tag=ai\", \"text\": \"\\u60f3\\u77e5\\u9053AI\\u7684\\u6230\\u7565\\u50f9\\u503c\", \"type\": \"postback\"}, \"bounds\": {\"height\": 684, \"width\": 549, \"x\": 45, \"y\": 125}}, {\"action\": {\"data\": \"tag=blockchain\", \"text\": \"\\u60f3\\u77e5\\u9053\\u5340\\u584a\\u93c8\\u7684\\u6230\\u7565\\u50f9\\u503c\", \"type\": \"postback\"}, \"bounds\": {\"height\": 693, \"width\": 639, \"x\": 619, \"y\": 120}}, {\"action\": {\"data\": \"tag=cloud\", \"text\": \"\\u60f3\\u77e5\\u9053\\u96f2\\u670d\\u52d9\\u7684\\u6230\\u7565\\u50f9\\u503c\", \"type\": \"postback\"}, \"bounds\": {\"height\": 693, \"width\": 618, \"x\": 1267, \"y\": 120}}, {\"action\": {\"data\": \"tag=devops\", \"text\": \"\\u7522\\u54c1\\u5feb\\u901f\\u5c0e\\u5165\\u7684\\u8a23\\u7ac5\", \"type\": \"postback\"}, \"bounds\": {\"height\": 701, \"width\": 594, \"x\": 1898, \"y\": 116}}, {\"action\": {\"data\": \"tag=contact\", \"text\": \"\\u9ede\\u64ca\\u65c1\\u908a\\u9023\\u7d50 line://ti/p/@gby2522m \\u9032\\u884c\\u806f\\u7d61\", \"type\": \"postback\"}, \"bounds\": {\"height\": 751, \"width\": 557, \"x\": 45, \"y\": 858}}, {\"action\": {\"type\": \"uri\", \"uri\": \"https://www.youtube.com/channel/UC3Gi7RVF6-rY2JBbfvMV9yA\"}, \"bounds\": {\"height\": 755, \"width\": 1266, \"x\": 623, \"y\": 850}}, {\"action\": {\"data\": \"tag=change_menu\", \"text\": \"\\u5207\\u63db\\u5206\\u9801\", \"type\": \"postback\"}, \"bounds\": {\"height\": 747, \"width\": 582, \"x\": 1906, \"y\": 854}}], \"chatBarText\": \"\\u4e3b\\u529f\\u80fd\\u9078\\u55ae\", \"name\": \"\\u4e3b\\u8981\\u7684\\u529f\\u80fd\\u9078\\u55ae - \\u7d93\\u5178\\u6b3e\", \"richMenuId\": \"richmenu-4f12d7fbeb71e22fcbfb7def3d43ccdf\", \"selected\": true, \"size\": {\"height\": 1686, \"width\": 2500}},\n",
       " {\"areas\": [{\"action\": {\"data\": \"folder=\\u51e1\\u9ce5\\u672b\\u4e16&tag=ai\", \"text\": \"\\u60f3\\u77e5\\u9053AI\\u7684\\u6230\\u7565\\u50f9\\u503c\", \"type\": \"postback\"}, \"bounds\": {\"height\": 218, \"width\": 648, \"x\": 99, \"y\": 355}}, {\"action\": {\"data\": \"folder=\\u6708\\u9322\\u653e\\u8cb8&tag=blockchain\", \"text\": \"\\u60f3\\u77e5\\u9053\\u5340\\u584a\\u93c8\\u7684\\u6230\\u7565\\u50f9\\u503c\", \"type\": \"postback\"}, \"bounds\": {\"height\": 214, \"width\": 640, \"x\": 107, \"y\": 685}}, {\"action\": {\"data\": \"folder=\\u98a8\\u6708\\u5bf6\\u9451&tag=cloud\", \"text\": \"\\u60f3\\u77e5\\u9053\\u96f2\\u670d\\u52d9\\u7684\\u6230\\u7565\\u50f9\\u503c\", \"type\": \"postback\"}, \"bounds\": {\"height\": 206, \"width\": 660, \"x\": 99, \"y\": 1023}}, {\"action\": {\"data\": \"folder=\\u5f9e\\u4ee4\\u4eba\\u6728&tag=devops\", \"text\": \"\\u7522\\u54c1\\u5feb\\u901f\\u5c0e\\u5165\\u7684\\u8a23\\u7ac5\", \"type\": \"postback\"}, \"bounds\": {\"height\": 215, \"width\": 652, \"x\": 1712, \"y\": 210}}, {\"action\": {\"data\": \"folder=\\u6fdf\\u5289\\u6069\\u5de7&tag=contact\", \"text\": \"\\u9ede\\u64ca\\u65c1\\u908a\\u9023\\u7d50 line://ti/p/@gby2522m \\u9032\\u884c\\u806f\\u7d61\", \"type\": \"postback\"}, \"bounds\": {\"height\": 202, \"width\": 664, \"x\": 1716, \"y\": 520}}, {\"action\": {\"type\": \"uri\", \"uri\": \"https://www.youtube.com/channel/UC3Gi7RVF6-rY2JBbfvMV9yA\"}, \"bounds\": {\"height\": 218, \"width\": 660, \"x\": 1716, \"y\": 780}}, {\"action\": {\"data\": \"tag=change_menu\", \"text\": \"\\u5207\\u63db\\u5206\\u9801\", \"type\": \"postback\"}, \"bounds\": {\"height\": 233, \"width\": 658, \"x\": 146, \"y\": 1367}}], \"chatBarText\": \"\\u5c71\\u5c16\\u51e1\\u9ce5\", \"name\": \"\\u738b\\u7199\\u9cf3\\u6b3e\", \"richMenuId\": \"richmenu-0207fc5b2f48dada144c9885f8ea9d48\", \"selected\": true, \"size\": {\"height\": 1686, \"width\": 2500}},\n",
       " {\"areas\": [{\"action\": {\"data\": \"folder=\\u5929\\u5730\\u9748\\u77f3&tag=ai\", \"text\": \"\\u60f3\\u77e5\\u9053AI\\u7684\\u6230\\u7565\\u50f9\\u503c\", \"type\": \"postback\"}, \"bounds\": {\"height\": 226, \"width\": 738, \"x\": 1477, \"y\": 50}}, {\"action\": {\"data\": \"folder=\\u56e0\\u679c\\u4ea4\\u7e54&tag=blockchain\", \"text\": \"\\u60f3\\u77e5\\u9053\\u5340\\u584a\\u93c8\\u7684\\u6230\\u7565\\u50f9\\u503c\", \"type\": \"postback\"}, \"bounds\": {\"height\": 202, \"width\": 738, \"x\": 1477, \"y\": 318}}, {\"action\": {\"data\": \"folder=\\u96f2\\u4e2d\\u5e7b\\u5883&tag=cloud\", \"text\": \"\\u60f3\\u77e5\\u9053\\u96f2\\u670d\\u52d9\\u7684\\u6230\\u7565\\u50f9\\u503c\", \"type\": \"postback\"}, \"bounds\": {\"height\": 210, \"width\": 738, \"x\": 1473, \"y\": 553}}, {\"action\": {\"data\": \"folder=\\u5306\\u5fd9\\u5e7e\\u5ea6&tag=devops\", \"text\": \"\\u7522\\u54c1\\u5feb\\u901f\\u5c0e\\u5165\\u7684\\u8a23\\u7ac5\", \"type\": \"postback\"}, \"bounds\": {\"height\": 227, \"width\": 730, \"x\": 1481, \"y\": 804}}, {\"action\": {\"data\": \"folder=\\u91d1\\u9675\\u56db\\u5bb6&tag=contact\", \"text\": \"\\u9ede\\u64ca\\u65c1\\u908a\\u9023\\u7d50 line://ti/p/@gby2522m \\u9032\\u884c\\u806f\\u7d61\", \"type\": \"postback\"}, \"bounds\": {\"height\": 210, \"width\": 726, \"x\": 1485, \"y\": 1085}}, {\"action\": {\"type\": \"uri\", \"uri\": \"https://www.youtube.com/channel/UC3Gi7RVF6-rY2JBbfvMV9yA\"}, \"bounds\": {\"height\": 194, \"width\": 1163, \"x\": 1246, \"y\": 1324}}, {\"action\": {\"text\": \"\\u98a8\\u6d41\\u60c5\\u7a2e\", \"type\": \"message\"}, \"bounds\": {\"height\": 1002, \"width\": 1213, \"x\": 91, \"y\": 13}}, {\"action\": {\"data\": \"tag=change_menu\", \"text\": \"\\u5207\\u63db\\u5206\\u9801\", \"type\": \"postback\"}, \"bounds\": {\"height\": 500, \"width\": 1002, \"x\": 99, \"y\": 1064}}], \"chatBarText\": \"\\u9752\\u6897\\u5cf0\\u9811\\u77f3\", \"name\": \"\\u8cc8\\u5bf6\\u7389\\u6b3e\", \"richMenuId\": \"richmenu-2e7806b197422e4fff681301f5d2181a\", \"selected\": true, \"size\": {\"height\": 1686, \"width\": 2500}}]"
      ]
     },
     "execution_count": 17,
     "metadata": {},
     "output_type": "execute_result"
    }
   ],
   "source": [
    "'''\n",
    "\n",
    "查詢帳號內擁有的richmenu \n",
    "\n",
    "'''\n",
    "\n",
    "from linebot import (\n",
    "    LineBotApi\n",
    ")\n",
    "\n",
    "import json\n",
    "\n",
    "secretFileContentJson=json.load(open(\"./line_secret_key\",'r',encoding='utf8'))\n",
    "line_bot_api = LineBotApi(secretFileContentJson.get(\"channel_access_token\"))\n",
    "\n",
    "line_bot_api.get_rich_menu_list()\n"
   ]
  },
  {
   "cell_type": "code",
   "execution_count": 13,
   "metadata": {},
   "outputs": [
    {
     "name": "stdout",
     "output_type": "stream",
     "text": [
      "None\n"
     ]
    }
   ],
   "source": [
    "'''\n",
    "\n",
    "移除帳號內的richmenu\n",
    "\n",
    "'''\n",
    "\n",
    "from linebot import (\n",
    "    LineBotApi\n",
    ")\n",
    "\n",
    "import json\n",
    "secretFileContentJson=json.load(open(\"./line_secret_key\",'r',encoding='utf8'))\n",
    "line_bot_api = LineBotApi(secretFileContentJson.get(\"channel_access_token\"))\n",
    "\n",
    "# 設定要移除的rich_menu\n",
    "rich_menu_name_array = [\"rich_menu_0\"]\n",
    "\n",
    "for rich_menu_name in rich_menu_name_array:\n",
    "    \n",
    "    # 讀取rich_menu_id檔案，並告知 Line 進行刪除，並在刪除後，把本地檔案內容清除\n",
    "    with open(\"素材/\"+rich_menu_name+'/rich_menu_id', 'r') as myfile:\n",
    "        rich_menu_id = myfile.read()\n",
    "        deleteResult = line_bot_api.delete_rich_menu(rich_menu_id)\n",
    "        print(deleteResult)\n",
    "        \n",
    "    f = open(\"素材/\"+rich_menu_name+\"/rich_menu_id\", \"w\")\n",
    "    f.write('')\n",
    "    f.close() "
   ]
  },
  {
   "cell_type": "code",
   "execution_count": 14,
   "metadata": {},
   "outputs": [],
   "source": [
    "'''\n",
    "\n",
    "解除用戶綁定\n",
    "\n",
    "'''\n",
    "\n",
    "from linebot import (\n",
    "    LineBotApi\n",
    ")\n",
    "\n",
    "import json\n",
    "\n",
    "# rich_menu_id_array = [\"rich_menu_0\"]\n",
    "\n",
    "secretFileContentJson=json.load(open(\"./line_secret_key\",'r',encoding='utf8'))\n",
    "line_bot_api = LineBotApi(secretFileContentJson.get(\"channel_access_token\"))\n",
    "\n",
    "self_user_id='Ud29c5cf085e845db7c6457677116df4d'\n",
    "line_bot_api.unlink_rich_menu_from_user(self_user_id)"
   ]
  },
  {
   "cell_type": "code",
   "execution_count": 3,
   "metadata": {},
   "outputs": [],
   "source": [
    "'''\n",
    "\n",
    "綁定個人用戶進行測試\n",
    "\n",
    "'''\n",
    "\n",
    "from linebot import (\n",
    "    LineBotApi\n",
    ")\n",
    "\n",
    "import json\n",
    "\n",
    "# rich_menu_id_array = [\"rich_menu_0\"]\n",
    "\n",
    "secretFileContentJson=json.load(open(\"./line_secret_key\",'r',encoding='utf8'))\n",
    "line_bot_api = LineBotApi(secretFileContentJson.get(\"channel_access_token\"))\n",
    "\n",
    "self_user_id='U558bd4dcb50d151f6034e168ab502d81'\n",
    "rich_menu_id='richmenu-90ee157f5f5bfc22109868b88347d597'\n",
    "\n",
    "line_bot_api.unlink_rich_menu_from_user(self_user_id)\n",
    "line_bot_api.link_rich_menu_to_user(self_user_id,rich_menu_id)"
   ]
  },
  {
   "cell_type": "code",
   "execution_count": null,
   "metadata": {},
   "outputs": [],
   "source": []
  }
 ],
 "metadata": {
  "kernelspec": {
   "display_name": "Python 3",
   "language": "python",
   "name": "python3"
  },
  "language_info": {
   "codemirror_mode": {
    "name": "ipython",
    "version": 3
   },
   "file_extension": ".py",
   "mimetype": "text/x-python",
   "name": "python",
   "nbconvert_exporter": "python",
   "pygments_lexer": "ipython3",
   "version": "3.7.4"
  }
 },
 "nbformat": 4,
 "nbformat_minor": 2
}
